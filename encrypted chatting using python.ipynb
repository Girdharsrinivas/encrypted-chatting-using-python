{
  "nbformat": 4,
  "nbformat_minor": 0,
  "metadata": {
    "colab": {
      "name": "Untitled1.ipynb",
      "provenance": []
    },
    "kernelspec": {
      "name": "python3",
      "display_name": "Python 3"
    },
    "language_info": {
      "name": "python"
    }
  },
  "cells": [
    {
      "cell_type": "code",
      "execution_count": 2,
      "metadata": {
        "colab": {
          "base_uri": "https://localhost:8080/"
        },
        "id": "1aN-RoDf0QKn",
        "outputId": "63fd561c-a00c-46ae-9e43-8a798017ed87"
      },
      "outputs": [
        {
          "output_type": "stream",
          "name": "stdout",
          "text": [
            "Collecting cryptography\n",
            "  Downloading cryptography-36.0.1-cp36-abi3-manylinux_2_24_x86_64.whl (3.6 MB)\n",
            "\u001b[K     |████████████████████████████████| 3.6 MB 4.9 MB/s \n",
            "\u001b[?25hRequirement already satisfied: cffi>=1.12 in /usr/local/lib/python3.7/dist-packages (from cryptography) (1.15.0)\n",
            "Requirement already satisfied: pycparser in /usr/local/lib/python3.7/dist-packages (from cffi>=1.12->cryptography) (2.21)\n",
            "Installing collected packages: cryptography\n",
            "Successfully installed cryptography-36.0.1\n"
          ]
        }
      ],
      "source": [
        "pip install cryptography\n"
      ]
    },
    {
      "cell_type": "code",
      "source": [
        "import urllib.request\n",
        "from cryptography.fernet import Fernet\n",
        "import base64\n",
        "from cryptography.hazmat.backends import default_backend\n",
        "from cryptography.hazmat.primitives import hashes\n",
        "from cryptography.hazmat.primitives.kdf.pbkdf2 import PBKDF2HMAC\n",
        "msg=str(input('Enter your message : '))\n",
        "password_provided = input(\"Provide a key : \")\n",
        "password = password_provided.encode()\n",
        "salt = b'salt_'\n",
        "kdf = PBKDF2HMAC(\n",
        "algorithm=hashes.SHA256(),\n",
        "length=32,\n",
        "salt=salt,\n",
        "iterations=100000,\n",
        "backend=default_backend()\n",
        ")\n",
        "key = base64.urlsafe_b64encode(kdf.derive(password))\n",
        "urllib.request.urlopen\n",
        "msg=msg.encode()\n",
        "f = Fernet(key)\n",
        "msg=f.encrypt(msg)\n",
        "msg=str(msg)\n",
        "print(\"\\nYour encrypted text is: \"+msg)\n",
        "b=urllib.request.urlopen('https://api.thingspeak.com/update?api_key=M0EFAIMXXCZPY7T8&field1='+msg)\n",
        "print(\"\\nYour message has successfully been sent with end-to-end encryption!\\nThe receiver needs to enter the same key.\")"
      ],
      "metadata": {
        "colab": {
          "base_uri": "https://localhost:8080/"
        },
        "id": "bosFHLBS0i2L",
        "outputId": "37f64cc0-887b-4d8f-9554-d5def98e44ed"
      },
      "execution_count": 3,
      "outputs": [
        {
          "output_type": "stream",
          "name": "stdout",
          "text": [
            "Enter your message : hi\n",
            "Provide a key : key123\n",
            "\n",
            "Your encrypted text is: b'gAAAAABhyfBBn8ujARazLh9jgmA4twzx6Z-3kG8yQPAwHsmE3INioE-RXESF9pyG9R7E3mfAJOMLBlT3UfjT1VvYyCUepWbjfQ=='\n",
            "\n",
            "Your message has successfully been sent with end-to-end encryption!\n",
            "The receiver needs to enter the same key.\n"
          ]
        }
      ]
    }
  ]
}