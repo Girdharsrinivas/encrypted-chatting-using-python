{
  "nbformat": 4,
  "nbformat_minor": 0,
  "metadata": {
    "colab": {
      "name": "Untitled2.ipynb",
      "provenance": []
    },
    "kernelspec": {
      "name": "python3",
      "display_name": "Python 3"
    },
    "language_info": {
      "name": "python"
    }
  },
  "cells": [
    {
      "cell_type": "code",
      "execution_count": 1,
      "metadata": {
        "colab": {
          "base_uri": "https://localhost:8080/"
        },
        "id": "cMLkY5qa1jOj",
        "outputId": "159b8fc5-8566-4a59-fbc7-6ee84145008b"
      },
      "outputs": [
        {
          "output_type": "stream",
          "name": "stdout",
          "text": [
            "Collecting cryptography\n",
            "  Downloading cryptography-36.0.1-cp36-abi3-manylinux_2_24_x86_64.whl (3.6 MB)\n",
            "\u001b[K     |████████████████████████████████| 3.6 MB 7.5 MB/s \n",
            "\u001b[?25hRequirement already satisfied: cffi>=1.12 in /usr/local/lib/python3.7/dist-packages (from cryptography) (1.15.0)\n",
            "Requirement already satisfied: pycparser in /usr/local/lib/python3.7/dist-packages (from cffi>=1.12->cryptography) (2.21)\n",
            "Installing collected packages: cryptography\n",
            "Successfully installed cryptography-36.0.1\n"
          ]
        }
      ],
      "source": [
        "pip install cryptography\n"
      ]
    },
    {
      "cell_type": "code",
      "source": [
        "import urllib.request\n",
        "from cryptography.fernet import Fernet\n",
        "import base64\n",
        "from cryptography.hazmat.backends import default_backend\n",
        "from cryptography.hazmat.primitives import hashes\n",
        "from cryptography.hazmat.primitives.kdf.pbkdf2 import PBKDF2HMAC\n",
        "msg=str(input('Enter your message : '))\n",
        "password_provided = input(\"Provide a key : \")\n",
        "password = password_provided.encode()\n",
        "salt = b'salt_'\n",
        "kdf = PBKDF2HMAC(\n",
        "algorithm=hashes.SHA256(),\n",
        "length=32,\n",
        "salt=salt,\n",
        "iterations=100000,\n",
        "backend=default_backend()\n",
        ")\n",
        "key = base64.urlsafe_b64encode(kdf.derive(password))\n",
        "urllib.request.urlopen\n",
        "msg=msg.encode()\n",
        "f = Fernet(key)\n",
        "msg=f.encrypt(msg)\n",
        "msg=str(msg)\n",
        "print(\"\\nYour encrypted text is: \"+msg)\n",
        "b=urllib.request.urlopen('https://api.thingspeak.com/update?api_key=M0EFAIMXXCZPY7T8&field1='+msg)\n",
        "print(\"\\nYour message has successfully been sent with end-to-end encryption!\\nThe receiver needs to enter the same key.\")"
      ],
      "metadata": {
        "colab": {
          "base_uri": "https://localhost:8080/"
        },
        "id": "pFm5EM6P2MoT",
        "outputId": "87f01841-9fd6-47ee-8e1c-69a1a4c619d1"
      },
      "execution_count": 4,
      "outputs": [
        {
          "output_type": "stream",
          "name": "stdout",
          "text": [
            "Enter your message : welcom to python\n",
            "Provide a key : key 1234\n",
            "\n",
            "Your encrypted text is: b'gAAAAABhyfH97_DMu5UGbelgG8AfeE_E5PNoLxD2qkG7rwu1Hs7gnZlaTWdfpqcPh7sfcqoe_KpZIEcf6vNX0ex9r2Dp1a2E9pGBGjucGZ1T-j1WoCZFpdc='\n",
            "\n",
            "Your message has successfully been sent with end-to-end encryption!\n",
            "The receiver needs to enter the same key.\n"
          ]
        }
      ]
    },
    {
      "cell_type": "code",
      "source": [
        "import requests\n",
        "from cryptography.fernet import Fernet\n",
        "import base64\n",
        "from cryptography.hazmat.backends import default_backend\n",
        "from cryptography.hazmat.primitives import hashes\n",
        "from cryptography.hazmat.primitives.kdf.pbkdf2 import PBKDF2HMAC\n",
        "msg=requests.get(\"https://thingspeak.com/channels/1461170/field/1\")\n",
        "msg=msg.json()['feeds'][-1]['field1']\n",
        "password_provided = input(\"Provide the key : \")\n",
        "password = password_provided.encode()\n",
        "salt = b'salt_'\n",
        "kdf = PBKDF2HMAC(\n",
        "\talgorithm=hashes.SHA256(),\n",
        "\tlength=32,\n",
        "\tsalt=salt,\n",
        "\titerations=100000,\n",
        "\tbackend=default_backend()\n",
        ")\n",
        "key = base64.urlsafe_b64encode(kdf.derive(password))\n",
        "f=Fernet(key)\n",
        "print(\"\\nEncrypted text you've received :\\n\\n\"+msg)\n",
        "msg=msg[2:-1]\n",
        "msg=bytes(msg,'utf-8')\n",
        "msg=f.decrypt(msg)\n",
        "print(\"\\nThe Message sent was: \\n\\n\"+str(msg)[2:-1])"
      ],
      "metadata": {
        "colab": {
          "base_uri": "https://localhost:8080/"
        },
        "id": "3vAztLxn2W9b",
        "outputId": "18a125bc-8e06-4c88-eaf6-83ed1d78e458"
      },
      "execution_count": 6,
      "outputs": [
        {
          "output_type": "stream",
          "name": "stdout",
          "text": [
            "Provide the key : key 1234\n",
            "\n",
            "Encrypted text you've received :\n",
            "\n",
            "b'gAAAAABhyfH97_DMu5UGbelgG8AfeE_E5PNoLxD2qkG7rwu1Hs7gnZlaTWdfpqcPh7sfcqoe_KpZIEcf6vNX0ex9r2Dp1a2E9pGBGjucGZ1T-j1WoCZFpdc='\n",
            "\n",
            "The Message sent was: \n",
            "\n",
            "welcom to python\n"
          ]
        }
      ]
    }
  ]
}